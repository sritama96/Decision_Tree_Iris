{
  "nbformat": 4,
  "nbformat_minor": 0,
  "metadata": {
    "colab": {
      "name": "clock_angle.ipynb",
      "provenance": [],
      "collapsed_sections": [],
      "authorship_tag": "ABX9TyONnxbsNLbypNf/BI0ojxim",
      "include_colab_link": true
    },
    "kernelspec": {
      "name": "python3",
      "display_name": "Python 3"
    }
  },
  "cells": [
    {
      "cell_type": "markdown",
      "metadata": {
        "id": "view-in-github",
        "colab_type": "text"
      },
      "source": [
        "<a href=\"https://colab.research.google.com/github/sritama96/Decision_Tree_Iris/blob/main/clock_angle.ipynb\" target=\"_parent\"><img src=\"https://colab.research.google.com/assets/colab-badge.svg\" alt=\"Open In Colab\"/></a>"
      ]
    },
    {
      "cell_type": "code",
      "metadata": {
        "id": "PaRVfnoGl4bu"
      },
      "source": [
        "def hour_min(hr,min):\r\n",
        "    if(hr == 12):\r\n",
        "        hr = 0\r\n",
        "        \"\"\" 1 hour = 60 minutes \"\"\"\r\n",
        "    if(min == 60):\r\n",
        "        hr = hr+1\r\n",
        "    \"\"\"The hour hand of a normal 12-hour analogue clock turns 360° in 12 hours (720 minutes) or 0.5° per minute.\"\"\" \r\n",
        "    theta_hr = 0.5*((hr*60)+min)\r\n",
        "    \"\"\"The minute hand rotates through 360° in 60 minutes or 6° per minute.\"\"\"\r\n",
        "    theta_min = 6*min\r\n",
        "    theta = abs(theta_hr - theta_min)\r\n",
        "    print(\"The angle between two clock hands is \" + str(int(theta)) + \" degrees.\")\r\n"
      ],
      "execution_count": 9,
      "outputs": []
    },
    {
      "cell_type": "code",
      "metadata": {
        "colab": {
          "base_uri": "https://localhost:8080/"
        },
        "id": "-uJWtivAnhdA",
        "outputId": "5b3a697b-37c4-4a4a-fc62-c8aa89f3e911"
      },
      "source": [
        "hour_min(10,50)"
      ],
      "execution_count": 12,
      "outputs": [
        {
          "output_type": "stream",
          "text": [
            "The angle between two clock hands is 25 degrees.\n"
          ],
          "name": "stdout"
        }
      ]
    },
    {
      "cell_type": "code",
      "metadata": {
        "id": "F-p1Lc0BoAL5"
      },
      "source": [
        ""
      ],
      "execution_count": null,
      "outputs": []
    }
  ]
}